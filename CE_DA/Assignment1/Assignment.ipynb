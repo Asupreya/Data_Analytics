{
 "cells": [
  {
   "cell_type": "code",
   "execution_count": 6,
   "metadata": {},
   "outputs": [],
   "source": [
    "import numpy as np\n",
    "import pandas as pd\n",
    "import matplotlib.pyplot as plt\n",
    "import seaborn as sns\n",
    "\n",
    "from sklearn import tree\n",
    "from sklearn.tree import DecisionTreeClassifier\n",
    "from sklearn.model_selection import train_test_split\n",
    "from sklearn.metrics import accuracy_score\n",
    "from sklearn.metrics import precision_recall_fscore_support\n",
    "from sklearn.metrics import confusion_matrix\n",
    "from sklearn.metrics import ConfusionMatrixDisplay"
   ]
  },
  {
   "cell_type": "code",
   "execution_count": 7,
   "metadata": {},
   "outputs": [],
   "source": [
    "df = pd.read_csv(\"Ex1-Class-train.csv\")"
   ]
  },
  {
   "cell_type": "code",
   "execution_count": 8,
   "metadata": {},
   "outputs": [
    {
     "data": {
      "text/html": [
       "<div>\n",
       "<style scoped>\n",
       "    .dataframe tbody tr th:only-of-type {\n",
       "        vertical-align: middle;\n",
       "    }\n",
       "\n",
       "    .dataframe tbody tr th {\n",
       "        vertical-align: top;\n",
       "    }\n",
       "\n",
       "    .dataframe thead th {\n",
       "        text-align: right;\n",
       "    }\n",
       "</style>\n",
       "<table border=\"1\" class=\"dataframe\">\n",
       "  <thead>\n",
       "    <tr style=\"text-align: right;\">\n",
       "      <th></th>\n",
       "      <th>x1</th>\n",
       "      <th>x2</th>\n",
       "      <th>x3</th>\n",
       "      <th>x4</th>\n",
       "      <th>x5</th>\n",
       "      <th>y</th>\n",
       "    </tr>\n",
       "  </thead>\n",
       "  <tbody>\n",
       "    <tr>\n",
       "      <th>0</th>\n",
       "      <td>-17.20</td>\n",
       "      <td>30.38</td>\n",
       "      <td>7.48</td>\n",
       "      <td>26.15</td>\n",
       "      <td>21.32</td>\n",
       "      <td>B</td>\n",
       "    </tr>\n",
       "    <tr>\n",
       "      <th>1</th>\n",
       "      <td>5.23</td>\n",
       "      <td>-11.30</td>\n",
       "      <td>-4.49</td>\n",
       "      <td>-8.77</td>\n",
       "      <td>-6.76</td>\n",
       "      <td>A</td>\n",
       "    </tr>\n",
       "    <tr>\n",
       "      <th>2</th>\n",
       "      <td>2.31</td>\n",
       "      <td>6.24</td>\n",
       "      <td>9.27</td>\n",
       "      <td>13.17</td>\n",
       "      <td>-3.58</td>\n",
       "      <td>B</td>\n",
       "    </tr>\n",
       "    <tr>\n",
       "      <th>3</th>\n",
       "      <td>1.24</td>\n",
       "      <td>6.91</td>\n",
       "      <td>8.41</td>\n",
       "      <td>14.41</td>\n",
       "      <td>-2.43</td>\n",
       "      <td>B</td>\n",
       "    </tr>\n",
       "    <tr>\n",
       "      <th>4</th>\n",
       "      <td>10.53</td>\n",
       "      <td>-23.79</td>\n",
       "      <td>-9.82</td>\n",
       "      <td>-23.38</td>\n",
       "      <td>-12.86</td>\n",
       "      <td>A</td>\n",
       "    </tr>\n",
       "    <tr>\n",
       "      <th>...</th>\n",
       "      <td>...</td>\n",
       "      <td>...</td>\n",
       "      <td>...</td>\n",
       "      <td>...</td>\n",
       "      <td>...</td>\n",
       "      <td>...</td>\n",
       "    </tr>\n",
       "    <tr>\n",
       "      <th>185</th>\n",
       "      <td>24.23</td>\n",
       "      <td>-34.07</td>\n",
       "      <td>-4.41</td>\n",
       "      <td>15.78</td>\n",
       "      <td>-37.05</td>\n",
       "      <td>B</td>\n",
       "    </tr>\n",
       "    <tr>\n",
       "      <th>186</th>\n",
       "      <td>5.88</td>\n",
       "      <td>-25.08</td>\n",
       "      <td>-18.39</td>\n",
       "      <td>-14.31</td>\n",
       "      <td>-9.34</td>\n",
       "      <td>A</td>\n",
       "    </tr>\n",
       "    <tr>\n",
       "      <th>187</th>\n",
       "      <td>0.53</td>\n",
       "      <td>1.10</td>\n",
       "      <td>2.35</td>\n",
       "      <td>-5.73</td>\n",
       "      <td>0.57</td>\n",
       "      <td>A</td>\n",
       "    </tr>\n",
       "    <tr>\n",
       "      <th>188</th>\n",
       "      <td>13.01</td>\n",
       "      <td>-36.62</td>\n",
       "      <td>-21.88</td>\n",
       "      <td>-1.76</td>\n",
       "      <td>-21.85</td>\n",
       "      <td>A</td>\n",
       "    </tr>\n",
       "    <tr>\n",
       "      <th>189</th>\n",
       "      <td>-0.68</td>\n",
       "      <td>9.09</td>\n",
       "      <td>9.83</td>\n",
       "      <td>-11.79</td>\n",
       "      <td>4.56</td>\n",
       "      <td>C</td>\n",
       "    </tr>\n",
       "  </tbody>\n",
       "</table>\n",
       "<p>190 rows × 6 columns</p>\n",
       "</div>"
      ],
      "text/plain": [
       "        x1     x2     x3     x4     x5  y\n",
       "0   -17.20  30.38   7.48  26.15  21.32  B\n",
       "1     5.23 -11.30  -4.49  -8.77  -6.76  A\n",
       "2     2.31   6.24   9.27  13.17  -3.58  B\n",
       "3     1.24   6.91   8.41  14.41  -2.43  B\n",
       "4    10.53 -23.79  -9.82 -23.38 -12.86  A\n",
       "..     ...    ...    ...    ...    ... ..\n",
       "185  24.23 -34.07  -4.41  15.78 -37.05  B\n",
       "186   5.88 -25.08 -18.39 -14.31  -9.34  A\n",
       "187   0.53   1.10   2.35  -5.73   0.57  A\n",
       "188  13.01 -36.62 -21.88  -1.76 -21.85  A\n",
       "189  -0.68   9.09   9.83 -11.79   4.56  C\n",
       "\n",
       "[190 rows x 6 columns]"
      ]
     },
     "execution_count": 8,
     "metadata": {},
     "output_type": "execute_result"
    }
   ],
   "source": [
    "df"
   ]
  },
  {
   "cell_type": "code",
   "execution_count": 9,
   "metadata": {},
   "outputs": [
    {
     "name": "stdout",
     "output_type": "stream",
     "text": [
      "<class 'pandas.core.frame.DataFrame'>\n",
      "RangeIndex: 190 entries, 0 to 189\n",
      "Data columns (total 6 columns):\n",
      " #   Column  Non-Null Count  Dtype  \n",
      "---  ------  --------------  -----  \n",
      " 0   x1      190 non-null    float64\n",
      " 1   x2      190 non-null    float64\n",
      " 2   x3      190 non-null    float64\n",
      " 3   x4      190 non-null    float64\n",
      " 4   x5      190 non-null    float64\n",
      " 5   y       190 non-null    object \n",
      "dtypes: float64(5), object(1)\n",
      "memory usage: 9.0+ KB\n"
     ]
    }
   ],
   "source": [
    "df.info()"
   ]
  },
  {
   "cell_type": "code",
   "execution_count": 10,
   "metadata": {},
   "outputs": [],
   "source": [
    "x = df[[\"x1\", \"x2\", \"x3\", \"x4\", \"x5\"]]\n",
    "y = df[\"y\"]"
   ]
  },
  {
   "cell_type": "code",
   "execution_count": 11,
   "metadata": {},
   "outputs": [],
   "source": [
    "x_train, x_test, y_train, y_test = train_test_split(x, y, test_size = 0.3) #แบ่งเทสเซ็ตกับเทรนนิ่งเซ็ตเป็น 30:70"
   ]
  },
  {
   "cell_type": "code",
   "execution_count": 12,
   "metadata": {},
   "outputs": [
    {
     "data": {
      "text/html": [
       "<style>#sk-container-id-1 {color: black;background-color: white;}#sk-container-id-1 pre{padding: 0;}#sk-container-id-1 div.sk-toggleable {background-color: white;}#sk-container-id-1 label.sk-toggleable__label {cursor: pointer;display: block;width: 100%;margin-bottom: 0;padding: 0.3em;box-sizing: border-box;text-align: center;}#sk-container-id-1 label.sk-toggleable__label-arrow:before {content: \"▸\";float: left;margin-right: 0.25em;color: #696969;}#sk-container-id-1 label.sk-toggleable__label-arrow:hover:before {color: black;}#sk-container-id-1 div.sk-estimator:hover label.sk-toggleable__label-arrow:before {color: black;}#sk-container-id-1 div.sk-toggleable__content {max-height: 0;max-width: 0;overflow: hidden;text-align: left;background-color: #f0f8ff;}#sk-container-id-1 div.sk-toggleable__content pre {margin: 0.2em;color: black;border-radius: 0.25em;background-color: #f0f8ff;}#sk-container-id-1 input.sk-toggleable__control:checked~div.sk-toggleable__content {max-height: 200px;max-width: 100%;overflow: auto;}#sk-container-id-1 input.sk-toggleable__control:checked~label.sk-toggleable__label-arrow:before {content: \"▾\";}#sk-container-id-1 div.sk-estimator input.sk-toggleable__control:checked~label.sk-toggleable__label {background-color: #d4ebff;}#sk-container-id-1 div.sk-label input.sk-toggleable__control:checked~label.sk-toggleable__label {background-color: #d4ebff;}#sk-container-id-1 input.sk-hidden--visually {border: 0;clip: rect(1px 1px 1px 1px);clip: rect(1px, 1px, 1px, 1px);height: 1px;margin: -1px;overflow: hidden;padding: 0;position: absolute;width: 1px;}#sk-container-id-1 div.sk-estimator {font-family: monospace;background-color: #f0f8ff;border: 1px dotted black;border-radius: 0.25em;box-sizing: border-box;margin-bottom: 0.5em;}#sk-container-id-1 div.sk-estimator:hover {background-color: #d4ebff;}#sk-container-id-1 div.sk-parallel-item::after {content: \"\";width: 100%;border-bottom: 1px solid gray;flex-grow: 1;}#sk-container-id-1 div.sk-label:hover label.sk-toggleable__label {background-color: #d4ebff;}#sk-container-id-1 div.sk-serial::before {content: \"\";position: absolute;border-left: 1px solid gray;box-sizing: border-box;top: 0;bottom: 0;left: 50%;z-index: 0;}#sk-container-id-1 div.sk-serial {display: flex;flex-direction: column;align-items: center;background-color: white;padding-right: 0.2em;padding-left: 0.2em;position: relative;}#sk-container-id-1 div.sk-item {position: relative;z-index: 1;}#sk-container-id-1 div.sk-parallel {display: flex;align-items: stretch;justify-content: center;background-color: white;position: relative;}#sk-container-id-1 div.sk-item::before, #sk-container-id-1 div.sk-parallel-item::before {content: \"\";position: absolute;border-left: 1px solid gray;box-sizing: border-box;top: 0;bottom: 0;left: 50%;z-index: -1;}#sk-container-id-1 div.sk-parallel-item {display: flex;flex-direction: column;z-index: 1;position: relative;background-color: white;}#sk-container-id-1 div.sk-parallel-item:first-child::after {align-self: flex-end;width: 50%;}#sk-container-id-1 div.sk-parallel-item:last-child::after {align-self: flex-start;width: 50%;}#sk-container-id-1 div.sk-parallel-item:only-child::after {width: 0;}#sk-container-id-1 div.sk-dashed-wrapped {border: 1px dashed gray;margin: 0 0.4em 0.5em 0.4em;box-sizing: border-box;padding-bottom: 0.4em;background-color: white;}#sk-container-id-1 div.sk-label label {font-family: monospace;font-weight: bold;display: inline-block;line-height: 1.2em;}#sk-container-id-1 div.sk-label-container {text-align: center;}#sk-container-id-1 div.sk-container {/* jupyter's `normalize.less` sets `[hidden] { display: none; }` but bootstrap.min.css set `[hidden] { display: none !important; }` so we also need the `!important` here to be able to override the default hidden behavior on the sphinx rendered scikit-learn.org. See: https://github.com/scikit-learn/scikit-learn/issues/21755 */display: inline-block !important;position: relative;}#sk-container-id-1 div.sk-text-repr-fallback {display: none;}</style><div id=\"sk-container-id-1\" class=\"sk-top-container\"><div class=\"sk-text-repr-fallback\"><pre>DecisionTreeClassifier()</pre><b>In a Jupyter environment, please rerun this cell to show the HTML representation or trust the notebook. <br />On GitHub, the HTML representation is unable to render, please try loading this page with nbviewer.org.</b></div><div class=\"sk-container\" hidden><div class=\"sk-item\"><div class=\"sk-estimator sk-toggleable\"><input class=\"sk-toggleable__control sk-hidden--visually\" id=\"sk-estimator-id-1\" type=\"checkbox\" checked><label for=\"sk-estimator-id-1\" class=\"sk-toggleable__label sk-toggleable__label-arrow\">DecisionTreeClassifier</label><div class=\"sk-toggleable__content\"><pre>DecisionTreeClassifier()</pre></div></div></div></div></div>"
      ],
      "text/plain": [
       "DecisionTreeClassifier()"
      ]
     },
     "execution_count": 12,
     "metadata": {},
     "output_type": "execute_result"
    }
   ],
   "source": [
    "model = DecisionTreeClassifier()\n",
    "model.fit(x_train, y_train)"
   ]
  },
  {
   "cell_type": "code",
   "execution_count": 13,
   "metadata": {},
   "outputs": [
    {
     "name": "stdout",
     "output_type": "stream",
     "text": [
      "|--- feature_4 <= -2.74\n",
      "|   |--- feature_3 <= 5.15\n",
      "|   |   |--- class: A\n",
      "|   |--- feature_3 >  5.15\n",
      "|   |   |--- feature_2 <= -6.96\n",
      "|   |   |   |--- class: A\n",
      "|   |   |--- feature_2 >  -6.96\n",
      "|   |   |   |--- feature_3 <= 7.14\n",
      "|   |   |   |   |--- feature_0 <= 9.68\n",
      "|   |   |   |   |   |--- class: B\n",
      "|   |   |   |   |--- feature_0 >  9.68\n",
      "|   |   |   |   |   |--- class: A\n",
      "|   |   |   |--- feature_3 >  7.14\n",
      "|   |   |   |   |--- feature_2 <= 14.45\n",
      "|   |   |   |   |   |--- class: B\n",
      "|   |   |   |   |--- feature_2 >  14.45\n",
      "|   |   |   |   |   |--- feature_3 <= 12.20\n",
      "|   |   |   |   |   |   |--- class: B\n",
      "|   |   |   |   |   |--- feature_3 >  12.20\n",
      "|   |   |   |   |   |   |--- class: A\n",
      "|--- feature_4 >  -2.74\n",
      "|   |--- feature_3 <= -0.47\n",
      "|   |   |--- feature_1 <= 26.16\n",
      "|   |   |   |--- feature_4 <= -1.17\n",
      "|   |   |   |   |--- class: B\n",
      "|   |   |   |--- feature_4 >  -1.17\n",
      "|   |   |   |   |--- feature_4 <= 1.18\n",
      "|   |   |   |   |   |--- feature_1 <= -4.79\n",
      "|   |   |   |   |   |   |--- class: C\n",
      "|   |   |   |   |   |--- feature_1 >  -4.79\n",
      "|   |   |   |   |   |   |--- class: A\n",
      "|   |   |   |   |--- feature_4 >  1.18\n",
      "|   |   |   |   |   |--- class: C\n",
      "|   |   |--- feature_1 >  26.16\n",
      "|   |   |   |--- class: B\n",
      "|   |--- feature_3 >  -0.47\n",
      "|   |   |--- feature_2 <= 6.68\n",
      "|   |   |   |--- feature_3 <= 14.98\n",
      "|   |   |   |   |--- feature_4 <= 6.61\n",
      "|   |   |   |   |   |--- class: B\n",
      "|   |   |   |   |--- feature_4 >  6.61\n",
      "|   |   |   |   |   |--- class: C\n",
      "|   |   |   |--- feature_3 >  14.98\n",
      "|   |   |   |   |--- feature_2 <= 1.87\n",
      "|   |   |   |   |   |--- class: A\n",
      "|   |   |   |   |--- feature_2 >  1.87\n",
      "|   |   |   |   |   |--- class: B\n",
      "|   |   |--- feature_2 >  6.68\n",
      "|   |   |   |--- class: B\n",
      "\n"
     ]
    }
   ],
   "source": [
    "print(tree.export_text(model))"
   ]
  },
  {
   "cell_type": "code",
   "execution_count": 14,
   "metadata": {},
   "outputs": [],
   "source": [
    "y_pred = model.predict(x_test)"
   ]
  },
  {
   "cell_type": "code",
   "execution_count": 15,
   "metadata": {},
   "outputs": [
    {
     "data": {
      "text/plain": [
       "array(['C', 'A', 'B', 'C', 'C', 'A', 'A', 'A', 'B', 'C', 'A', 'B', 'A',\n",
       "       'C', 'B', 'A', 'A', 'C', 'C', 'A', 'A', 'C', 'B', 'B', 'C', 'C',\n",
       "       'B', 'A', 'B', 'B', 'C', 'B', 'A', 'C', 'B', 'B', 'A', 'C', 'A',\n",
       "       'A', 'A', 'A', 'B', 'B', 'C', 'C', 'A', 'C', 'A', 'A', 'A', 'B',\n",
       "       'A', 'B', 'B', 'B', 'C'], dtype=object)"
      ]
     },
     "execution_count": 15,
     "metadata": {},
     "output_type": "execute_result"
    }
   ],
   "source": [
    "y_pred"
   ]
  },
  {
   "cell_type": "code",
   "execution_count": 16,
   "metadata": {},
   "outputs": [],
   "source": [
    "acc = accuracy_score(y_test, y_pred)"
   ]
  },
  {
   "cell_type": "code",
   "execution_count": 17,
   "metadata": {},
   "outputs": [
    {
     "data": {
      "text/plain": [
       "0.8421052631578947"
      ]
     },
     "execution_count": 17,
     "metadata": {},
     "output_type": "execute_result"
    }
   ],
   "source": [
    "acc"
   ]
  },
  {
   "cell_type": "code",
   "execution_count": 18,
   "metadata": {},
   "outputs": [
    {
     "data": {
      "text/plain": [
       "(0.8518518518518519, 0.8421052631578947, 0.8452585712647632, None)"
      ]
     },
     "execution_count": 18,
     "metadata": {},
     "output_type": "execute_result"
    }
   ],
   "source": [
    "prf = precision_recall_fscore_support(y_test, y_pred, average = \"weighted\")\n",
    "prf"
   ]
  },
  {
   "cell_type": "code",
   "execution_count": 19,
   "metadata": {},
   "outputs": [
    {
     "data": {
      "text/plain": [
       "'\\noutput = [\"Precision\", \"Recall\", \"F1\"]\\nn = 0\\nfor i in prf:\\n    print(f\"{output[n]}: {prf[n]}\")\\n    n += 1\\n'"
      ]
     },
     "execution_count": 19,
     "metadata": {},
     "output_type": "execute_result"
    }
   ],
   "source": [
    "\"\"\"\n",
    "output = [\"Precision\", \"Recall\", \"F1\"]\n",
    "n = 0\n",
    "for i in prf:\n",
    "    print(f\"{output[n]}: {prf[n]}\")\n",
    "    n += 1\n",
    "\"\"\""
   ]
  },
  {
   "cell_type": "code",
   "execution_count": 20,
   "metadata": {},
   "outputs": [
    {
     "data": {
      "text/plain": [
       "array([[18,  4,  0],\n",
       "       [ 3, 13,  0],\n",
       "       [ 1,  1, 17]], dtype=int64)"
      ]
     },
     "execution_count": 20,
     "metadata": {},
     "output_type": "execute_result"
    }
   ],
   "source": [
    "confusion_matrix(y_test, y_pred)"
   ]
  },
  {
   "cell_type": "code",
   "execution_count": null,
   "metadata": {},
   "outputs": [],
   "source": [
    "%matplotlib widget\n",
    "cm = confusion_matrix(y_test, y_pred)\n",
    "cm_display = ConfusionMatrixDisplay(confusion_matrix = cm, display_labels = [\"A\", \"B\", \"C\"])\n",
    "cm_display.plot()\n",
    "plt.show()"
   ]
  },
  {
   "cell_type": "code",
   "execution_count": 22,
   "metadata": {},
   "outputs": [],
   "source": [
    "cm = confusion_matrix(y_test, y_pred)\n",
    "out = ['A', 'B', 'C']\n",
    "conf_matrix_df = pd.DataFrame(cm, columns=out, index=out)"
   ]
  },
  {
   "cell_type": "code",
   "execution_count": 35,
   "metadata": {},
   "outputs": [
    {
     "data": {
      "text/plain": [
       "Text(86.25, 0.5, 'Actual')"
      ]
     },
     "execution_count": 35,
     "metadata": {},
     "output_type": "execute_result"
    },
    {
     "data": {
      "application/vnd.jupyter.widget-view+json": {
       "model_id": "d197fb1117fe4e8395cc1eec504713fe",
       "version_major": 2,
       "version_minor": 0
      },
      "image/png": "[encoded data removed]",
      "text/html": [
       "\n",
       "            <div style=\"display: inline-block;\">\n",
       "                <div class=\"jupyter-widgets widget-label\" style=\"text-align: center;\">\n",
       "                    Figure\n",
       "                </div>\n",
       "                <img src='data:image/png;base64,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' width=1000.0/>\n",
       "            </div>\n",
       "        "
      ],
      "text/plain": [
       "Canvas(toolbar=Toolbar(toolitems=[('Home', 'Reset original view', 'home', 'home'), ('Back', 'Back to previous …"
      ]
     },
     "metadata": {},
     "output_type": "display_data"
    }
   ],
   "source": [
    "plt.figure(figsize=(10, 10))\n",
    "sns.set(font_scale=1.5)\n",
    "\n",
    "sns.heatmap(conf_matrix_df,\n",
    "            cmap='YlGnBu',\n",
    "            annot=True,  #แสดงเลข\n",
    "            fmt='.5g',  #เกี่ยวกับการแสดงผลตัวเลข\n",
    "            vmin=0,\n",
    "            vmax=20)\n",
    "\n",
    "plt.xlabel('Predicted',fontsize=22)\n",
    "plt.ylabel('Actual',fontsize=22)"
   ]
  },
  {
   "cell_type": "code",
   "execution_count": 24,
   "metadata": {},
   "outputs": [],
   "source": [
    "from sklearn.model_selection import KFold"
   ]
  },
  {
   "cell_type": "code",
   "execution_count": 25,
   "metadata": {},
   "outputs": [],
   "source": [
    "kf = KFold(n_splits=4) #แบ่งข้อมูลเป็น 4 ชุด 3ชุดเทรน 1ชุดเทส แล้วก็วนใหม่อีกรอบให้แจ่ละรอบมีชุดเทส ชุดเทรนไม่เหมือนกัน เพื่อให้โมเดลมีความครอบคลุม"
   ]
  },
  {
   "cell_type": "code",
   "execution_count": 26,
   "metadata": {},
   "outputs": [
    {
     "name": "stdout",
     "output_type": "stream",
     "text": [
      "------------------------------------\n",
      "Decision Tree\n",
      " Mean Accuracy : 0.8003102836879432\n"
     ]
    }
   ],
   "source": [
    "acc_list = []\n",
    "\n",
    "for train_index, test_index in kf.split(x):\n",
    "  X_train, X_test = x.loc[train_index], x.loc[test_index]\n",
    "  y_train, y_test = y.loc[train_index], y.loc[test_index]\n",
    "\n",
    "  model = DecisionTreeClassifier()\n",
    "  model.fit(X_train, y_train)\n",
    "\n",
    "  y_pred = model.predict(X_test)\n",
    "  acc = accuracy_score(y_test, y_pred)\n",
    "  acc_list.append(acc)\n",
    "\n",
    "print(\"------------------------------------\")\n",
    "print(\"Decision Tree\")\n",
    "print(\" Mean Accuracy :\", np.mean(acc_list))"
   ]
  },
  {
   "cell_type": "code",
   "execution_count": 27,
   "metadata": {},
   "outputs": [],
   "source": [
    "df_unseen = pd.read_csv(\"Ex1-Class-unseen.csv\")"
   ]
  },
  {
   "cell_type": "code",
   "execution_count": 28,
   "metadata": {},
   "outputs": [],
   "source": [
    "x = df[[\"x1\", \"x2\", \"x3\", \"x4\", \"x5\"]]\n",
    "y = df[\"y\"]"
   ]
  },
  {
   "cell_type": "code",
   "execution_count": 29,
   "metadata": {},
   "outputs": [],
   "source": [
    "x_unseen = df_unseen[[\"x1\", \"x2\", \"x3\", \"x4\", \"x5\"]]"
   ]
  },
  {
   "cell_type": "code",
   "execution_count": 30,
   "metadata": {},
   "outputs": [
    {
     "data": {
      "text/html": [
       "<style>#sk-container-id-2 {color: black;background-color: white;}#sk-container-id-2 pre{padding: 0;}#sk-container-id-2 div.sk-toggleable {background-color: white;}#sk-container-id-2 label.sk-toggleable__label {cursor: pointer;display: block;width: 100%;margin-bottom: 0;padding: 0.3em;box-sizing: border-box;text-align: center;}#sk-container-id-2 label.sk-toggleable__label-arrow:before {content: \"▸\";float: left;margin-right: 0.25em;color: #696969;}#sk-container-id-2 label.sk-toggleable__label-arrow:hover:before {color: black;}#sk-container-id-2 div.sk-estimator:hover label.sk-toggleable__label-arrow:before {color: black;}#sk-container-id-2 div.sk-toggleable__content {max-height: 0;max-width: 0;overflow: hidden;text-align: left;background-color: #f0f8ff;}#sk-container-id-2 div.sk-toggleable__content pre {margin: 0.2em;color: black;border-radius: 0.25em;background-color: #f0f8ff;}#sk-container-id-2 input.sk-toggleable__control:checked~div.sk-toggleable__content {max-height: 200px;max-width: 100%;overflow: auto;}#sk-container-id-2 input.sk-toggleable__control:checked~label.sk-toggleable__label-arrow:before {content: \"▾\";}#sk-container-id-2 div.sk-estimator input.sk-toggleable__control:checked~label.sk-toggleable__label {background-color: #d4ebff;}#sk-container-id-2 div.sk-label input.sk-toggleable__control:checked~label.sk-toggleable__label {background-color: #d4ebff;}#sk-container-id-2 input.sk-hidden--visually {border: 0;clip: rect(1px 1px 1px 1px);clip: rect(1px, 1px, 1px, 1px);height: 1px;margin: -1px;overflow: hidden;padding: 0;position: absolute;width: 1px;}#sk-container-id-2 div.sk-estimator {font-family: monospace;background-color: #f0f8ff;border: 1px dotted black;border-radius: 0.25em;box-sizing: border-box;margin-bottom: 0.5em;}#sk-container-id-2 div.sk-estimator:hover {background-color: #d4ebff;}#sk-container-id-2 div.sk-parallel-item::after {content: \"\";width: 100%;border-bottom: 1px solid gray;flex-grow: 1;}#sk-container-id-2 div.sk-label:hover label.sk-toggleable__label {background-color: #d4ebff;}#sk-container-id-2 div.sk-serial::before {content: \"\";position: absolute;border-left: 1px solid gray;box-sizing: border-box;top: 0;bottom: 0;left: 50%;z-index: 0;}#sk-container-id-2 div.sk-serial {display: flex;flex-direction: column;align-items: center;background-color: white;padding-right: 0.2em;padding-left: 0.2em;position: relative;}#sk-container-id-2 div.sk-item {position: relative;z-index: 1;}#sk-container-id-2 div.sk-parallel {display: flex;align-items: stretch;justify-content: center;background-color: white;position: relative;}#sk-container-id-2 div.sk-item::before, #sk-container-id-2 div.sk-parallel-item::before {content: \"\";position: absolute;border-left: 1px solid gray;box-sizing: border-box;top: 0;bottom: 0;left: 50%;z-index: -1;}#sk-container-id-2 div.sk-parallel-item {display: flex;flex-direction: column;z-index: 1;position: relative;background-color: white;}#sk-container-id-2 div.sk-parallel-item:first-child::after {align-self: flex-end;width: 50%;}#sk-container-id-2 div.sk-parallel-item:last-child::after {align-self: flex-start;width: 50%;}#sk-container-id-2 div.sk-parallel-item:only-child::after {width: 0;}#sk-container-id-2 div.sk-dashed-wrapped {border: 1px dashed gray;margin: 0 0.4em 0.5em 0.4em;box-sizing: border-box;padding-bottom: 0.4em;background-color: white;}#sk-container-id-2 div.sk-label label {font-family: monospace;font-weight: bold;display: inline-block;line-height: 1.2em;}#sk-container-id-2 div.sk-label-container {text-align: center;}#sk-container-id-2 div.sk-container {/* jupyter's `normalize.less` sets `[hidden] { display: none; }` but bootstrap.min.css set `[hidden] { display: none !important; }` so we also need the `!important` here to be able to override the default hidden behavior on the sphinx rendered scikit-learn.org. See: https://github.com/scikit-learn/scikit-learn/issues/21755 */display: inline-block !important;position: relative;}#sk-container-id-2 div.sk-text-repr-fallback {display: none;}</style><div id=\"sk-container-id-2\" class=\"sk-top-container\"><div class=\"sk-text-repr-fallback\"><pre>DecisionTreeClassifier()</pre><b>In a Jupyter environment, please rerun this cell to show the HTML representation or trust the notebook. <br />On GitHub, the HTML representation is unable to render, please try loading this page with nbviewer.org.</b></div><div class=\"sk-container\" hidden><div class=\"sk-item\"><div class=\"sk-estimator sk-toggleable\"><input class=\"sk-toggleable__control sk-hidden--visually\" id=\"sk-estimator-id-2\" type=\"checkbox\" checked><label for=\"sk-estimator-id-2\" class=\"sk-toggleable__label sk-toggleable__label-arrow\">DecisionTreeClassifier</label><div class=\"sk-toggleable__content\"><pre>DecisionTreeClassifier()</pre></div></div></div></div></div>"
      ],
      "text/plain": [
       "DecisionTreeClassifier()"
      ]
     },
     "execution_count": 30,
     "metadata": {},
     "output_type": "execute_result"
    }
   ],
   "source": [
    "my_model = DecisionTreeClassifier()\n",
    "my_model.fit(x, y)"
   ]
  },
  {
   "cell_type": "code",
   "execution_count": 31,
   "metadata": {},
   "outputs": [],
   "source": [
    "y_unseen = my_model.predict(x_unseen)"
   ]
  },
  {
   "cell_type": "code",
   "execution_count": 32,
   "metadata": {},
   "outputs": [
    {
     "name": "stdout",
     "output_type": "stream",
     "text": [
      "1. A\n",
      "2. B\n",
      "3. A\n",
      "4. C\n",
      "5. A\n",
      "6. A\n",
      "7. C\n",
      "8. B\n",
      "9. C\n",
      "10. B\n"
     ]
    }
   ],
   "source": [
    "n = 0\n",
    "for i in y_unseen:\n",
    "    print(f\"{n + 1}. {y_unseen[n]}\")\n",
    "    n += 1"
   ]
  }
 ],
 "metadata": {
  "kernelspec": {
   "display_name": "Python 3",
   "language": "python",
   "name": "python3"
  },
  "language_info": {
   "codemirror_mode": {
    "name": "ipython",
    "version": 3
   },
   "file_extension": ".py",
   "mimetype": "text/x-python",
   "name": "python",
   "nbconvert_exporter": "python",
   "pygments_lexer": "ipython3",
   "version": "3.11.0"
  },
  "orig_nbformat": 4,
  "vscode": {
   "interpreter": {
    "hash": "c261aea317cc0286b3b3261fbba9abdec21eaa57589985bb7a274bf54d6cc0a7"
   }
  }
 },
 "nbformat": 4,
 "nbformat_minor": 2
}
